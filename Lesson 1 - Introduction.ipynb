{
 "cells": [
  {
   "cell_type": "markdown",
   "metadata": {},
   "source": [
    "# Jupyter Notebooks"
   ]
  },
  {
   "cell_type": "markdown",
   "metadata": {},
   "source": [
    "Jupyter notebooks are widely used for data analysis as they allow you to combine text with code in an organized report-like manner. We will begin with an Introduction to Markdown so that you are familiar with how you can write good documentation and format your notebook when completing different stages of your project."
   ]
  },
  {
   "cell_type": "markdown",
   "metadata": {},
   "source": [
    "# Introduction to Markdown"
   ]
  },
  {
   "cell_type": "markdown",
   "metadata": {},
   "source": [
    "To change a code block to Markdown, you can use the drop down from the top menu. Change it from Code to Markdown.\n",
    "\n",
    "A quick shortcut is when you create a new block, you can click M while it is blue and it will turn it into markdown. Once it is green, it is in the ready phase for you to type code or markdown so you need to click the side of the block to change it back to editing phase (blue). "
   ]
  },
  {
   "cell_type": "markdown",
   "metadata": {},
   "source": [
    "Other quick shortcuts when the code block is blue:\n",
    "* A: Add block above\n",
    "* B: Add block below\n",
    "* DD: Delete block\n",
    "* Shift and down: Allows you to highlight multiple blocks. You can then delete multiple blocks or copy and them and paste them elsewhere.\n",
    "* CTRL + C/COMMAND + C: Copy\n",
    "* CTRL + V/COMMAND + V: Paste\n",
    "\n",
    "Double click on any markdown code chunk to edit it again and if you want to see the syntax used to get the stylistic components."
   ]
  },
  {
   "cell_type": "markdown",
   "metadata": {},
   "source": [
    "# Header 1\n",
    "## Header 2 \n",
    "### Header 3 \n",
    "#### Header 4 \n",
    "##### Header 5 \n",
    "\n",
    "**Bold**\n",
    "\n",
    "_Italics_\n",
    "\n",
    "`variable_name`\n",
    "\n",
    "```\n",
    "This is\n",
    "a\n",
    "code chunk\n",
    "here\n",
    "```\n",
    "\n",
    "Here is a bullet list:\n",
    "* Milk\n",
    "* Eggs\n",
    "* Bread\n",
    "\n",
    "Here is a numbered list:\n",
    "1. First\n",
    "2. Second\n",
    "3. Third\n",
    "\n",
    "You will be using markdown to write down explanations during your assignment, summarize findings, or to note your final answer statements. "
   ]
  },
  {
   "cell_type": "markdown",
   "metadata": {},
   "source": [
    "Insert a code chunk with the following to insert a new page:\n",
    "\n",
    "```\n",
    "%%latex\n",
    "\\newpage\n",
    "```"
   ]
  },
  {
   "cell_type": "markdown",
   "metadata": {},
   "source": [
    "## Resources:\n",
    "* [Markdown Tutorial](https://www.markdowntutorial.com/)\n",
    "2. [Markdown Syntax Guide](https://www.markdownguide.org/basic-syntax/)\n",
    "3. [Mastering Markdown](https://guides.github.com/features/mastering-markdown/)"
   ]
  },
  {
   "cell_type": "markdown",
   "metadata": {},
   "source": [
    "# Introduction to Python"
   ]
  },
  {
   "cell_type": "markdown",
   "metadata": {},
   "source": [
    "## What is Python?\n",
    "\n",
    "Python is a _high-level general-purpose_ programming language. For data analytics, Python and R are the tools that have been widely accepted; however, Python is the preferred tool for most. It is especially popular in the FinTech field - common tools that are used are pandas, numpy, matplotlib, scikit-learn, etc. Our goal is to get you familiar with numpy, pandas and matplotlib to begin some introductory data analysis projects."
   ]
  },
  {
   "cell_type": "markdown",
   "metadata": {},
   "source": [
    "We will not be going over an Introduction to Python, but here are some exercises to complete as warm-ups."
   ]
  },
  {
   "cell_type": "markdown",
   "metadata": {},
   "source": [
    "# Exercises\n",
    "\n",
    "Exercise 1: Create a function that will take take a list of numbers and output the sum of the maximum and minimum values.\n",
    "\n",
    "Exercise 2: Create a dictionary that stores your first_name, last_name, student_id, and fav_animal. Extract your favorite animal from the dictionary.\n",
    "\n",
    "Exercise 3: Create a function that will take a first_name and last_name and output an email address with the following conditions:\n",
    "* First letter of your first name\n",
    "* The portion before the @ should be at most 8 characters long\n",
    "* The email domain should be @uwaterloo.ca\n",
    "* Everything should be lower case\n",
    "* i.e. email_creator('Kanika', 'Chopra') => kchopra@uwaterloo.ca"
   ]
  }
 ],
 "metadata": {
  "kernelspec": {
   "display_name": "venv",
   "language": "python",
   "name": "venv"
  },
  "language_info": {
   "codemirror_mode": {
    "name": "ipython",
    "version": 3
   },
   "file_extension": ".py",
   "mimetype": "text/x-python",
   "name": "python",
   "nbconvert_exporter": "python",
   "pygments_lexer": "ipython3",
   "version": "3.9.5"
  }
 },
 "nbformat": 4,
 "nbformat_minor": 2
}
